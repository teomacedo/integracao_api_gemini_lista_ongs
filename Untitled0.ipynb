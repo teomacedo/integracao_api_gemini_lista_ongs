{
  "nbformat": 4,
  "nbformat_minor": 0,
  "metadata": {
    "colab": {
      "provenance": [],
      "authorship_tag": "ABX9TyPbmH8Exmr6dSi4Mj+KjvM4",
      "include_colab_link": true
    },
    "kernelspec": {
      "name": "python3",
      "display_name": "Python 3"
    },
    "language_info": {
      "name": "python"
    }
  },
  "cells": [
    {
      "cell_type": "markdown",
      "metadata": {
        "id": "view-in-github",
        "colab_type": "text"
      },
      "source": [
        "<a href=\"https://colab.research.google.com/github/teomacedo/integracao_api_gemini_lista_ongs/blob/main/Untitled0.ipynb\" target=\"_parent\"><img src=\"https://colab.research.google.com/assets/colab-badge.svg\" alt=\"Open In Colab\"/></a>"
      ]
    },
    {
      "cell_type": "code",
      "execution_count": 15,
      "metadata": {
        "id": "Qb3oVjpOScyo"
      },
      "outputs": [],
      "source": [
        "!pip install -q -U google-generativeai"
      ]
    },
    {
      "cell_type": "code",
      "source": [
        "import google.generativeai as genai\n",
        "\n",
        "from google.colab import userdata\n",
        "chave_api = userdata.get('SECRET_KEY')\n",
        "genai.configure(api_key=chave_api)\n",
        "\n",
        "from tabulate import tabulate"
      ],
      "metadata": {
        "id": "JEr_6j4TiL4i"
      },
      "execution_count": 43,
      "outputs": []
    },
    {
      "cell_type": "markdown",
      "source": [],
      "metadata": {
        "id": "D4n2kTlZWKKa"
      }
    },
    {
      "cell_type": "code",
      "source": [
        "model = genai.GenerativeModel(model_name=\"gemini-1.5-pro\")"
      ],
      "metadata": {
        "id": "6yXQ7uW1lNfG"
      },
      "execution_count": 39,
      "outputs": []
    },
    {
      "cell_type": "code",
      "source": [
        "chat = model.start_chat(history=[])"
      ],
      "metadata": {
        "id": "2xJxoEr6n7ul"
      },
      "execution_count": 32,
      "outputs": []
    },
    {
      "cell_type": "code",
      "source": [
        "prompt = input(\"Informe o link da foto a ser analisada: \")\n",
        "\n",
        "while prompt != \"fim\":\n",
        "  prompt_formatado = f\"Analise a imagem neste link e me diga em qual cidade ela foi tirada: {prompt}\"\n",
        "  response = chat.send_message(prompt_formatado)\n",
        "\n",
        "  cidade = \" \".join(response.text.split()[-2:])\n",
        "\n",
        "  prompt_ongs = f\"Liste as 10 principais ONGs da cidade de {cidade}, com seu foco de atuação e contato.\"\n",
        "  response_ongs = chat.send_message(prompt_ongs)\n",
        "\n",
        "  linhas = []\n",
        "  ong, foco, contato = None, None, None\n",
        "  for linha in response_ongs.text.strip().splitlines():\n",
        "    if linha.startswith(\"* \"):\n",
        "      if foco is None:\n",
        "        foco = linha[2:].strip()\n",
        "      else:\n",
        "        contato = linha[2:].strip()\n",
        "        linhas.append([ong, foco, contato])\n",
        "        ong, foco, contato = None, None, None\n",
        "    elif linha.strip() and not linha.startswith(\"**\"):\n",
        "      ong = linha.strip()\n",
        "\n",
        "  print(tabulate(linhas, headers=[\"ONG\", \"Foco\", \"Contato\"], tablefmt=\"grid\"))\n",
        "\n",
        "  prompt = input(\"Por favor, forneça o link de outra foto para dar continuidade ao processo, ou digite 'fim' para encerrá-lo. \")"
      ],
      "metadata": {
        "colab": {
          "base_uri": "https://localhost:8080/"
        },
        "id": "IhEUew9BoZev",
        "outputId": "387e3ce5-d243-4611-ee74-71a1d4b1b4a7"
      },
      "execution_count": 51,
      "outputs": [
        {
          "name": "stdout",
          "output_type": "stream",
          "text": [
            "Informe o link da foto a ser analisada: fim\n"
          ]
        }
      ]
    }
  ]
}
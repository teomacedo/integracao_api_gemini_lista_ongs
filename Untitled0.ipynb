{
  "nbformat": 4,
  "nbformat_minor": 0,
  "metadata": {
    "colab": {
      "provenance": [],
      "authorship_tag": "ABX9TyNIifPoVrp2V63yVLXElJXP",
      "include_colab_link": true
    },
    "kernelspec": {
      "name": "python3",
      "display_name": "Python 3"
    },
    "language_info": {
      "name": "python"
    }
  },
  "cells": [
    {
      "cell_type": "markdown",
      "metadata": {
        "id": "view-in-github",
        "colab_type": "text"
      },
      "source": [
        "<a href=\"https://colab.research.google.com/github/teomacedo/integracao_api_gemini_lista_ongs/blob/main/Untitled0.ipynb\" target=\"_parent\"><img src=\"https://colab.research.google.com/assets/colab-badge.svg\" alt=\"Open In Colab\"/></a>"
      ]
    },
    {
      "cell_type": "code",
      "execution_count": 15,
      "metadata": {
        "id": "Qb3oVjpOScyo"
      },
      "outputs": [],
      "source": [
        "!pip install -q -U google-generativeai"
      ]
    },
    {
      "cell_type": "code",
      "source": [
        "import google.generativeai as genai\n",
        "\n",
        "from google.colab import userdata\n",
        "chave_api = userdata.get('SECRET_KEY')\n",
        "genai.configure(api_key=chave_api)\n",
        "\n",
        "from tabulate import tabulate"
      ],
      "metadata": {
        "id": "JEr_6j4TiL4i"
      },
      "execution_count": 43,
      "outputs": []
    },
    {
      "cell_type": "markdown",
      "source": [],
      "metadata": {
        "id": "D4n2kTlZWKKa"
      }
    },
    {
      "cell_type": "code",
      "source": [
        "model = genai.GenerativeModel(model_name=\"gemini-1.5-pro\")"
      ],
      "metadata": {
        "id": "6yXQ7uW1lNfG"
      },
      "execution_count": 39,
      "outputs": []
    },
    {
      "cell_type": "code",
      "source": [
        "chat = model.start_chat(history=[])"
      ],
      "metadata": {
        "id": "2xJxoEr6n7ul"
      },
      "execution_count": 32,
      "outputs": []
    },
    {
      "cell_type": "code",
      "source": [
        "prompt = input(\"Informe o link da foto a ser analisada: \")\n",
        "\n",
        "while prompt != \"fim\":\n",
        "  prompt_formatado = f\"Analise a imagem neste link e me diga em qual cidade ela foi tirada: {prompt}\"\n",
        "  response = chat.send_message(prompt_formatado)\n",
        "\n",
        "  cidade = \" \".join(response.text.split()[-2:])\n",
        "\n",
        "  prompt_ongs = f\"Liste as 10 principais ONGs da cidade de {cidade}, com seu foco de atuação e contato!\"\n",
        "  response_ongs = chat.send_message(prompt_ongs)\n",
        "\n",
        "  linhas = []\n",
        "  ong, foco, contato = None, None, None\n",
        "  for linha in response_ongs.text.strip().splitlines():\n",
        "    if linha.startswith(\"* \"):\n",
        "      if foco is None:\n",
        "        foco = linha[2:].strip()\n",
        "      else:\n",
        "        contato = linha[2:].strip()\n",
        "        linhas.append([ong, foco, contato])\n",
        "        ong, foco, contato = None, None, None\n",
        "    elif linha.strip() and not linha.startswith(\"**\"):\n",
        "      ong = linha.strip()\n",
        "\n",
        "  print(tabulate(linhas, headers=[\"ONG\", \"Foco\", \"Contato\"], tablefmt=\"grid\"))\n",
        "\n",
        "  prompt = input(\"Por favor, forneça o link de outra foto para dar continuidade ao processo, ou digite 'fim' para encerrá-lo. \")"
      ],
      "metadata": {
        "colab": {
          "base_uri": "https://localhost:8080/",
          "height": 471
        },
        "id": "IhEUew9BoZev",
        "outputId": "2653b952-dcb5-4567-cf18-b5ab82e2b457"
      },
      "execution_count": 53,
      "outputs": [
        {
          "name": "stdout",
          "output_type": "stream",
          "text": [
            "Informe o link da foto a ser analisada: https://www.viagensecaminhos.com/wp-content/uploads/2016/12/porto-alegre-rs.jpg.webp\n",
            "+--------------------------------------------------------------------------+-------------------------------------------------------------------------------+-------------------------+\n",
            "| ONG                                                                      | Foco                                                                          | Contato                 |\n",
            "+==========================================================================+===============================================================================+=========================+\n",
            "| 1. **Associação Riograndense de Proteção aos Animais (ARPA)**            | Foco: Proteção e defesa dos direitos dos animais                              | Contato: (51) 3225-1111 |\n",
            "+--------------------------------------------------------------------------+-------------------------------------------------------------------------------+-------------------------+\n",
            "| 2. **Associação dos Deficientes Visuais do Rio Grande do Sul (ADEVIRS)** | Foco: Inclusão social e bem-estar das pessoas com deficiência visual          | Contato: (51) 3227-2222 |\n",
            "+--------------------------------------------------------------------------+-------------------------------------------------------------------------------+-------------------------+\n",
            "| 3. **Associação Gaúcha de Proteção ao Ambiente Natural (AGAPAN)**        | Foco: Preservação e proteção do meio ambiente                                 | Contato: (51) 3221-2222 |\n",
            "+--------------------------------------------------------------------------+-------------------------------------------------------------------------------+-------------------------+\n",
            "| 4. **Centro de Defesa dos Direitos Humanos (CDDH)**                      | Foco: Defesa dos direitos humanos e promoção da justiça social                | Contato: (51) 3222-3333 |\n",
            "+--------------------------------------------------------------------------+-------------------------------------------------------------------------------+-------------------------+\n",
            "| 5. **Fundação de Assistência Social e Cidadania (FASC)**                 | Foco: Assistência social e promoção da cidadania                              | Contato: (51) 3223-4444 |\n",
            "+--------------------------------------------------------------------------+-------------------------------------------------------------------------------+-------------------------+\n",
            "| 6. **Grupo de Apoio à Criança com Câncer (GACC)**                        | Foco: Apoio a crianças e adolescentes com câncer e suas famílias              | Contato: (51) 3224-5555 |\n",
            "+--------------------------------------------------------------------------+-------------------------------------------------------------------------------+-------------------------+\n",
            "| 7. **Instituto do Câncer Infantil (ICI)**                                | Foco: Assistência integral a crianças e adolescentes com câncer               | Contato: (51) 3225-6666 |\n",
            "+--------------------------------------------------------------------------+-------------------------------------------------------------------------------+-------------------------+\n",
            "| 8. **Lar da Menina**                                                     | Foco: Acolhimento e proteção de meninas em situação de vulnerabilidade social | Contato: (51) 3226-7777 |\n",
            "+--------------------------------------------------------------------------+-------------------------------------------------------------------------------+-------------------------+\n",
            "| 9. **Movimento dos Trabalhadores Rurais Sem Terra (MST)**                | Foco: Reforma agrária e direitos dos trabalhadores rurais                     | Contato: (51) 3227-8888 |\n",
            "+--------------------------------------------------------------------------+-------------------------------------------------------------------------------+-------------------------+\n",
            "| 10. **Pastoral da Criança**                                              | Foco: Promoção da saúde e bem-estar das crianças e suas famílias              | Contato: (51) 3228-9999 |\n",
            "+--------------------------------------------------------------------------+-------------------------------------------------------------------------------+-------------------------+\n",
            "Por favor, forneça o link de outra foto para dar continuidade ao processo, ou digite 'fim' para encerrá-lo. fim\n"
          ]
        }
      ]
    }
  ]
}